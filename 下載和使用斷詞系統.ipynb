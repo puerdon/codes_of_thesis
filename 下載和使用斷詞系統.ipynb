{
 "cells": [
  {
   "cell_type": "code",
   "execution_count": 18,
   "metadata": {},
   "outputs": [],
   "source": [
    "import requests\n",
    "from bs4 import BeautifulSoup\n",
    "from zipfile import ZipFile"
   ]
  },
  {
   "cell_type": "code",
   "execution_count": 15,
   "metadata": {},
   "outputs": [],
   "source": [
    "def send_password_email():\n",
    "    data = {\n",
    "    \"remail_account\":\"don0726\",\n",
    "    \"remail_mail\":\"r07142007%40ntu.edu.tw\",\n",
    "    \"submit2\": \"%B0e%A5X\"\n",
    "    }\n",
    "\n",
    "    a = requests.post(\"http://ckipsvr.iis.sinica.edu.tw/ckipws/reg.php\",data=data)\n",
    "\n",
    "# login\n",
    "data = {\n",
    "    \"login_account\":\"don0726\",\n",
    "    \"login_password\":\"x0880877\",\n",
    "    \"submit3\": \"%B0e%A5X\"\n",
    "}\n",
    "\n",
    "a = requests.post(\"http://ckipsvr.iis.sinica.edu.tw/ckipws/reg.php\",data=data)\n",
    "\n",
    "# parse out download link\n",
    "s = BeautifulSoup(a.content)\n",
    "link = s.find_all(\"a\")[3]['href']\n",
    "\n",
    "# download\n",
    "x = requests.get(link)\n",
    "with open(\"x.zip\", \"wb\") as f:\n",
    "    f.write(x.content)\n",
    "    \n",
    "send_password_email()\n",
    "\n"
   ]
  },
  {
   "cell_type": "code",
   "execution_count": 21,
   "metadata": {},
   "outputs": [
    {
     "name": "stdout",
     "output_type": "stream",
     "text": [
      "請輸入密碼:\n",
      "49e8\n"
     ]
    }
   ],
   "source": [
    "print(\"請輸入密碼:\")\n",
    "pwd = input()\n",
    "with ZipFile(\"x.zip\", \"r\") as z:\n",
    "    z.extractall(pwd=pwd.encode())"
   ]
  },
  {
   "cell_type": "code",
   "execution_count": 9,
   "metadata": {},
   "outputs": [
    {
     "ename": "OSError",
     "evalue": "dlopen(/Users/honghantang/Desktop/Don/ntu_master/碩論/data_and_code/CKIPWS_Linux/lib/libWordSeg.so, 6): no suitable image found.  Did find:\n\t/Users/honghantang/Desktop/Don/ntu_master/碩論/data_and_code/CKIPWS_Linux/lib/libWordSeg.so: unknown file type, first eight bytes: 0x7F 0x45 0x4C 0x46 0x02 0x01 0x01 0x03\n\t/Users/honghantang/Desktop/Don/ntu_master/碩論/data_and_code/CKIPWS_Linux/lib/libWordSeg.so: unknown file type, first eight bytes: 0x7F 0x45 0x4C 0x46 0x02 0x01 0x01 0x03",
     "output_type": "error",
     "traceback": [
      "\u001b[0;31m---------------------------------------------------------------------------\u001b[0m",
      "\u001b[0;31mOSError\u001b[0m                                   Traceback (most recent call last)",
      "\u001b[0;32m<ipython-input-9-e1e345881bef>\u001b[0m in \u001b[0;36m<module>\u001b[0;34m\u001b[0m\n\u001b[1;32m     80\u001b[0m \u001b[0minifile\u001b[0m \u001b[0;34m=\u001b[0m \u001b[0;34m'CKIPWS_Linux/ws.ini'\u001b[0m\u001b[0;34m\u001b[0m\u001b[0;34m\u001b[0m\u001b[0m\n\u001b[1;32m     81\u001b[0m \u001b[0;31m# 進行 CKIPWS 初始化的動作\u001b[0m\u001b[0;34m\u001b[0m\u001b[0;34m\u001b[0m\u001b[0;34m\u001b[0m\u001b[0m\n\u001b[0;32m---> 82\u001b[0;31m \u001b[0mckipws\u001b[0m \u001b[0;34m=\u001b[0m \u001b[0mPyWordSeg\u001b[0m\u001b[0;34m(\u001b[0m\u001b[0mlib\u001b[0m\u001b[0;34m,\u001b[0m \u001b[0minifile\u001b[0m\u001b[0;34m)\u001b[0m\u001b[0;34m\u001b[0m\u001b[0;34m\u001b[0m\u001b[0m\n\u001b[0m\u001b[1;32m     83\u001b[0m \u001b[0;31m# initial(lib, inifile)\u001b[0m\u001b[0;34m\u001b[0m\u001b[0;34m\u001b[0m\u001b[0;34m\u001b[0m\u001b[0m\n\u001b[1;32m     84\u001b[0m \u001b[0;34m\u001b[0m\u001b[0m\n",
      "\u001b[0;32m<ipython-input-9-e1e345881bef>\u001b[0m in \u001b[0;36m__init__\u001b[0;34m(self, Library, inifile)\u001b[0m\n\u001b[1;32m     10\u001b[0m \u001b[0;32mclass\u001b[0m \u001b[0mPyWordSeg\u001b[0m\u001b[0;34m(\u001b[0m\u001b[0mobject\u001b[0m\u001b[0;34m)\u001b[0m\u001b[0;34m:\u001b[0m\u001b[0;34m\u001b[0m\u001b[0;34m\u001b[0m\u001b[0m\n\u001b[1;32m     11\u001b[0m     \u001b[0;32mdef\u001b[0m \u001b[0m__init__\u001b[0m\u001b[0;34m(\u001b[0m\u001b[0mself\u001b[0m\u001b[0;34m,\u001b[0m \u001b[0mLibrary\u001b[0m\u001b[0;34m,\u001b[0m \u001b[0minifile\u001b[0m\u001b[0;34m)\u001b[0m\u001b[0;34m:\u001b[0m\u001b[0;34m\u001b[0m\u001b[0;34m\u001b[0m\u001b[0m\n\u001b[0;32m---> 12\u001b[0;31m         \u001b[0mself\u001b[0m\u001b[0;34m.\u001b[0m\u001b[0mlib\u001b[0m \u001b[0;34m=\u001b[0m \u001b[0mctypes\u001b[0m\u001b[0;34m.\u001b[0m\u001b[0mcdll\u001b[0m\u001b[0;34m.\u001b[0m\u001b[0mLoadLibrary\u001b[0m\u001b[0;34m(\u001b[0m\u001b[0mLibrary\u001b[0m\u001b[0;34m)\u001b[0m\u001b[0;34m\u001b[0m\u001b[0;34m\u001b[0m\u001b[0m\n\u001b[0m\u001b[1;32m     13\u001b[0m         \u001b[0mself\u001b[0m\u001b[0;34m.\u001b[0m\u001b[0mlib\u001b[0m\u001b[0;34m.\u001b[0m\u001b[0mWordSeg_InitData\u001b[0m\u001b[0;34m.\u001b[0m\u001b[0mrestype\u001b[0m\u001b[0;34m=\u001b[0m\u001b[0mctypes\u001b[0m\u001b[0;34m.\u001b[0m\u001b[0mc_bool\u001b[0m\u001b[0;34m\u001b[0m\u001b[0;34m\u001b[0m\u001b[0m\n\u001b[1;32m     14\u001b[0m         \u001b[0mself\u001b[0m\u001b[0;34m.\u001b[0m\u001b[0mlib\u001b[0m\u001b[0;34m.\u001b[0m\u001b[0mWordSeg_ApplyList\u001b[0m\u001b[0;34m.\u001b[0m\u001b[0mrestype\u001b[0m\u001b[0;34m=\u001b[0m\u001b[0mctypes\u001b[0m\u001b[0;34m.\u001b[0m\u001b[0mc_bool\u001b[0m\u001b[0;34m\u001b[0m\u001b[0;34m\u001b[0m\u001b[0m\n",
      "\u001b[0;32m~/.pyenv/versions/3.7.7/Python.framework/Versions/3.7/lib/python3.7/ctypes/__init__.py\u001b[0m in \u001b[0;36mLoadLibrary\u001b[0;34m(self, name)\u001b[0m\n\u001b[1;32m    440\u001b[0m \u001b[0;34m\u001b[0m\u001b[0m\n\u001b[1;32m    441\u001b[0m     \u001b[0;32mdef\u001b[0m \u001b[0mLoadLibrary\u001b[0m\u001b[0;34m(\u001b[0m\u001b[0mself\u001b[0m\u001b[0;34m,\u001b[0m \u001b[0mname\u001b[0m\u001b[0;34m)\u001b[0m\u001b[0;34m:\u001b[0m\u001b[0;34m\u001b[0m\u001b[0;34m\u001b[0m\u001b[0m\n\u001b[0;32m--> 442\u001b[0;31m         \u001b[0;32mreturn\u001b[0m \u001b[0mself\u001b[0m\u001b[0;34m.\u001b[0m\u001b[0m_dlltype\u001b[0m\u001b[0;34m(\u001b[0m\u001b[0mname\u001b[0m\u001b[0;34m)\u001b[0m\u001b[0;34m\u001b[0m\u001b[0;34m\u001b[0m\u001b[0m\n\u001b[0m\u001b[1;32m    443\u001b[0m \u001b[0;34m\u001b[0m\u001b[0m\n\u001b[1;32m    444\u001b[0m \u001b[0mcdll\u001b[0m \u001b[0;34m=\u001b[0m \u001b[0mLibraryLoader\u001b[0m\u001b[0;34m(\u001b[0m\u001b[0mCDLL\u001b[0m\u001b[0;34m)\u001b[0m\u001b[0;34m\u001b[0m\u001b[0;34m\u001b[0m\u001b[0m\n",
      "\u001b[0;32m~/.pyenv/versions/3.7.7/Python.framework/Versions/3.7/lib/python3.7/ctypes/__init__.py\u001b[0m in \u001b[0;36m__init__\u001b[0;34m(self, name, mode, handle, use_errno, use_last_error)\u001b[0m\n\u001b[1;32m    362\u001b[0m \u001b[0;34m\u001b[0m\u001b[0m\n\u001b[1;32m    363\u001b[0m         \u001b[0;32mif\u001b[0m \u001b[0mhandle\u001b[0m \u001b[0;32mis\u001b[0m \u001b[0;32mNone\u001b[0m\u001b[0;34m:\u001b[0m\u001b[0;34m\u001b[0m\u001b[0;34m\u001b[0m\u001b[0m\n\u001b[0;32m--> 364\u001b[0;31m             \u001b[0mself\u001b[0m\u001b[0;34m.\u001b[0m\u001b[0m_handle\u001b[0m \u001b[0;34m=\u001b[0m \u001b[0m_dlopen\u001b[0m\u001b[0;34m(\u001b[0m\u001b[0mself\u001b[0m\u001b[0;34m.\u001b[0m\u001b[0m_name\u001b[0m\u001b[0;34m,\u001b[0m \u001b[0mmode\u001b[0m\u001b[0;34m)\u001b[0m\u001b[0;34m\u001b[0m\u001b[0;34m\u001b[0m\u001b[0m\n\u001b[0m\u001b[1;32m    365\u001b[0m         \u001b[0;32melse\u001b[0m\u001b[0;34m:\u001b[0m\u001b[0;34m\u001b[0m\u001b[0;34m\u001b[0m\u001b[0m\n\u001b[1;32m    366\u001b[0m             \u001b[0mself\u001b[0m\u001b[0;34m.\u001b[0m\u001b[0m_handle\u001b[0m \u001b[0;34m=\u001b[0m \u001b[0mhandle\u001b[0m\u001b[0;34m\u001b[0m\u001b[0;34m\u001b[0m\u001b[0m\n",
      "\u001b[0;31mOSError\u001b[0m: dlopen(/Users/honghantang/Desktop/Don/ntu_master/碩論/data_and_code/CKIPWS_Linux/lib/libWordSeg.so, 6): no suitable image found.  Did find:\n\t/Users/honghantang/Desktop/Don/ntu_master/碩論/data_and_code/CKIPWS_Linux/lib/libWordSeg.so: unknown file type, first eight bytes: 0x7F 0x45 0x4C 0x46 0x02 0x01 0x01 0x03\n\t/Users/honghantang/Desktop/Don/ntu_master/碩論/data_and_code/CKIPWS_Linux/lib/libWordSeg.so: unknown file type, first eight bytes: 0x7F 0x45 0x4C 0x46 0x02 0x01 0x01 0x03"
     ]
    }
   ],
   "source": [
    "#!/usr/bin/python\n",
    "#-*- encoding: UTF-8 -*-\n",
    "# 20190910\n",
    "\n",
    "import ctypes, sys\n",
    "import os\n",
    "\n",
    "ckipws = None\n",
    "\n",
    "class PyWordSeg(object):\n",
    "    def __init__(self, Library, inifile):\n",
    "        self.lib = ctypes.cdll.LoadLibrary(Library)\n",
    "        self.lib.WordSeg_InitData.restype=ctypes.c_bool\n",
    "        self.lib.WordSeg_ApplyList.restype=ctypes.c_bool\n",
    "        self.lib.WordSeg_GetResultBegin.restype=ctypes.c_wchar_p\n",
    "        self.lib.WordSeg_GetResultNext.restype=ctypes.c_wchar_p\n",
    "        self.obj = self.lib.WordSeg_New()\n",
    "        ret = self.lib.WordSeg_InitData(self.obj, inifile.encode('utf-8'))\n",
    "        if not ret:\n",
    "            raise IOError(\"Loading %s failed.\"%(inifile))\n",
    "\n",
    "    def EnableLogger(self):\n",
    "        self.lib.WordSeg_EnableConsoleLogger(self.obj)\n",
    "\n",
    "    def ApplyList(self, inputList):\n",
    "        if len(inputList)==0:\n",
    "            return []\n",
    "        inArr=(ctypes.c_wchar_p*len(inputList))()\n",
    "        inArr[:]=inputList\n",
    "        ret=self.lib.WordSeg_ApplyList(self.obj, len(inputList), inArr)\n",
    "        if ret==None:\n",
    "            return []\n",
    "\n",
    "        outputList=[]\n",
    "        out=self.lib.WordSeg_GetResultBegin(self.obj)\n",
    "        while out!=None:\n",
    "            outputList.append(out)\n",
    "            out=self.lib.WordSeg_GetResultNext(self.obj)\n",
    "            \n",
    "        return outputList\n",
    "\n",
    "    def Destroy(self):\n",
    "        self.lib.WordSeg_Destroy(self.obj)\n",
    "\n",
    "# def initial(lib, inifile):\n",
    "#     global ckipws\n",
    "#     ckipws = PyWordSeg(lib, inifile)\n",
    "\n",
    "def segment(Sent, mode = 0):\n",
    "#     global ckipws\n",
    "    \n",
    "    Result = ''\n",
    "    try:\n",
    "        oL = ckipws.ApplyList([Sent])\n",
    "        Result = Result + oL[0]\n",
    "        del oL\n",
    "    except:\n",
    "        pass\n",
    "    finally:\n",
    "        if mode == 0:\n",
    "            WSResult = []\n",
    "            Result = Result.split()\n",
    "            for res in Result:\n",
    "                re = res.strip()\n",
    "                re = res[0:len(res)-1]\n",
    "                temp = re.split(u'(')\n",
    "                word = temp[0]\n",
    "                pos = temp[1]\n",
    "                WSResult.append((word,pos))\n",
    "            # [('蔡英文', 'Nb'), ('是', 'SHI'), ...]\n",
    "            return WSResult\n",
    "        else:\n",
    "            # 蔡英文(Nb)　是(SHI)　中華民國(Nc)...\n",
    "            return Result\n",
    "    \n",
    "\n",
    "# 指定 CKIPWS 統系統檔, 請勿修改\n",
    "lib = '/Users/honghantang/Desktop/Don/ntu_master/碩論/data_and_code/CKIPWS_Linux/lib/libWordSeg.so'\n",
    "# 指定 CKIPWS 的設定檔\n",
    "inifile = 'CKIPWS_Linux/ws.ini'\n",
    "# 進行 CKIPWS 初始化的動作\n",
    "ckipws = PyWordSeg(lib, inifile)\n",
    "# initial(lib, inifile)\n",
    "\n",
    "# # 輸入要處理的句子\n",
    "# inputStr = u'蔡英文是中華民國總統，而馬英九為前任總統，新北市市長是朱立倫。'\n",
    "# Result = segment(inputStr, 1)\n",
    "# # 結果在 Result 中\n",
    "# print (Result)\n",
    "\n",
    "    \n",
    "\n"
   ]
  },
  {
   "cell_type": "code",
   "execution_count": null,
   "metadata": {},
   "outputs": [],
   "source": []
  }
 ],
 "metadata": {
  "kernelspec": {
   "display_name": "Python 3",
   "language": "python",
   "name": "python3"
  },
  "language_info": {
   "codemirror_mode": {
    "name": "ipython",
    "version": 3
   },
   "file_extension": ".py",
   "mimetype": "text/x-python",
   "name": "python",
   "nbconvert_exporter": "python",
   "pygments_lexer": "ipython3",
   "version": "3.7.7"
  }
 },
 "nbformat": 4,
 "nbformat_minor": 4
}
