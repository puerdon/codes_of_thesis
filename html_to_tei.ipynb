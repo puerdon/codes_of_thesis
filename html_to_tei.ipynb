{
 "cells": [
  {
   "cell_type": "code",
   "execution_count": 69,
   "metadata": {},
   "outputs": [],
   "source": [
    "TEI_TEMPLATE = \"\"\"\n",
    "<TEI.2>\n",
    "    <teiHeader>\n",
    "        <metadata name=\"post_id\">{post_id}</metadata>\n",
    "        <metadata name=\"year\">{year}</metadata>\n",
    "        <metadata name=\"board\">{board}</metadata>\n",
    "    </teiHeader>\n",
    "    <text>\n",
    "        <title>\n",
    "        </title>\n",
    "        <body>\n",
    "        </body>\n",
    "        <comment>\n",
    "        </comment>\n",
    "\n",
    "    </text>\n",
    "</TEI.2>\n",
    "\"\"\""
   ]
  },
  {
   "cell_type": "code",
   "execution_count": 76,
   "metadata": {},
   "outputs": [],
   "source": [
    "from bs4 import BeautifulSoup\n",
    "\n",
    "import re\n",
    "from datetime import datetime\n",
    "\n",
    "def html2tei(html_path):\n",
    "    with open(html_path, \"r\") as f:\n",
    "        soup = BeautifulSoup(f.read())\n",
    "    \n",
    "    url = soup.link[\"href\"]\n",
    "    re_ = re.search(r\"www\\.ptt\\.cc/bbs/(.*)/(M\\.(\\d{10}).*)\\.html\", url)\n",
    "    board = re_.group(1)\n",
    "    post_id = re_.group(2)\n",
    "    timestamp = re_.group(3)\n",
    "    year = datetime.fromtimestamp(int(timestamp)).year\n",
    "    \n",
    " \n",
    "    comments = find_comments_from_soup(soup)\n",
    "\n",
    "\n",
    "    return TEI_TEMPLATE.format(board=board, post_id=post_id, year=year)\n",
    "\n",
    "\n",
    "def find_comments_from_soup(soup):\n",
    "    \n",
    "    result = []\n",
    "    pushs = soup.select('.push')\n",
    "    \n",
    "\n",
    "    \n",
    "    for push in pushs:\n",
    "#         print(type(push))\n",
    "#         print(push.find(\"span\", class_=\"push-tag\"))\n",
    "        \n",
    "        result.append({\n",
    "            \"push_tag\": push.find(\"span\", class_=\"push-tag\").text.strip(),\n",
    "            \"push_userud\": push.find(\"span\", class_=\"push-userid\").text.strip(),\n",
    "            \"push_content\": push.find(\"span\", class_=\"push-content\").text.strip()\n",
    "        })\n",
    "        \n",
    "    return result"
   ]
  },
  {
   "cell_type": "code",
   "execution_count": 77,
   "metadata": {},
   "outputs": [
    {
     "name": "stdout",
     "output_type": "stream",
     "text": [
      "\n",
      "<TEI.2>\n",
      "    <teiHeader>\n",
      "        <metadata name=\"post_id\">M.1263789205.A.34E</metadata>\n",
      "        <metadata name=\"year\">2010</metadata>\n",
      "        <metadata name=\"board\">gay</metadata>\n",
      "    </teiHeader>\n",
      "    <text>\n",
      "        <title>\n",
      "        </title>\n",
      "        <body>\n",
      "        </body>\n",
      "        <comment>\n",
      "        </comment>\n",
      "\n",
      "    </text>\n",
      "</TEI.2>\n",
      "\n"
     ]
    }
   ],
   "source": [
    "print(html2tei(\"/Users/honghantang/corpus_ptt/some_ptt_posts_from_132/gay_2010/20100118_1233_M.1263789205.A.34E.html\"))"
   ]
  },
  {
   "cell_type": "code",
   "execution_count": 63,
   "metadata": {},
   "outputs": [],
   "source": [
    "a = \"https://www.ptt.cc/bbs/ga-y/M.1263789205.A.34E.html\"\n",
    "\n",
    "x = re.search(r\"www\\.ptt\\.cc/bbs/(.*)/(M\\.(\\d{10}).*)\\.html\", a)"
   ]
  },
  {
   "cell_type": "code",
   "execution_count": 64,
   "metadata": {},
   "outputs": [
    {
     "data": {
      "text/plain": [
       "'ga-y'"
      ]
     },
     "execution_count": 64,
     "metadata": {},
     "output_type": "execute_result"
    }
   ],
   "source": [
    "x.group(1)"
   ]
  },
  {
   "cell_type": "code",
   "execution_count": 65,
   "metadata": {},
   "outputs": [
    {
     "data": {
      "text/plain": [
       "'M.1263789205.A.34E'"
      ]
     },
     "execution_count": 65,
     "metadata": {},
     "output_type": "execute_result"
    }
   ],
   "source": [
    "x.group(2)\n"
   ]
  },
  {
   "cell_type": "code",
   "execution_count": 66,
   "metadata": {},
   "outputs": [
    {
     "data": {
      "text/plain": [
       "'1263789205'"
      ]
     },
     "execution_count": 66,
     "metadata": {},
     "output_type": "execute_result"
    }
   ],
   "source": [
    "x.group(3)"
   ]
  },
  {
   "cell_type": "code",
   "execution_count": null,
   "metadata": {},
   "outputs": [],
   "source": []
  }
 ],
 "metadata": {
  "kernelspec": {
   "display_name": "Python 3",
   "language": "python",
   "name": "python3"
  },
  "language_info": {
   "codemirror_mode": {
    "name": "ipython",
    "version": 3
   },
   "file_extension": ".py",
   "mimetype": "text/x-python",
   "name": "python",
   "nbconvert_exporter": "python",
   "pygments_lexer": "ipython3",
   "version": "3.7.7"
  }
 },
 "nbformat": 4,
 "nbformat_minor": 4
}
